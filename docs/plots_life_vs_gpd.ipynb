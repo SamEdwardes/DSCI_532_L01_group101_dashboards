{
 "cells": [
  {
   "cell_type": "code",
   "execution_count": 1,
   "metadata": {},
   "outputs": [
    {
     "data": {
      "text/plain": [
       "DataTransformerRegistry.enable('json')"
      ]
     },
     "execution_count": 1,
     "metadata": {},
     "output_type": "execute_result"
    }
   ],
   "source": [
    "import altair as alt\n",
    "import numpy as np\n",
    "import pandas as pd\n",
    "\n",
    "\n",
    "pd.set_option('display.max_columns', None)\n",
    "alt.data_transformers.enable('json')"
   ]
  },
  {
   "cell_type": "markdown",
   "metadata": {},
   "source": [
    "## Get health data"
   ]
  },
  {
   "cell_type": "code",
   "execution_count": 2,
   "metadata": {},
   "outputs": [],
   "source": [
    "df = pd.read_csv(\"../data/WHO_life_expectancy_data_clean.csv\")"
   ]
  },
  {
   "cell_type": "code",
   "execution_count": 3,
   "metadata": {},
   "outputs": [
    {
     "data": {
      "text/html": [
       "<div>\n",
       "<style scoped>\n",
       "    .dataframe tbody tr th:only-of-type {\n",
       "        vertical-align: middle;\n",
       "    }\n",
       "\n",
       "    .dataframe tbody tr th {\n",
       "        vertical-align: top;\n",
       "    }\n",
       "\n",
       "    .dataframe thead th {\n",
       "        text-align: right;\n",
       "    }\n",
       "</style>\n",
       "<table border=\"1\" class=\"dataframe\">\n",
       "  <thead>\n",
       "    <tr style=\"text-align: right;\">\n",
       "      <th></th>\n",
       "      <th>Unnamed: 0</th>\n",
       "      <th>country</th>\n",
       "      <th>year</th>\n",
       "      <th>status</th>\n",
       "      <th>life_expectancy</th>\n",
       "      <th>adult_mortality</th>\n",
       "      <th>infant_deaths</th>\n",
       "      <th>alcohol</th>\n",
       "      <th>percentage_expenditure</th>\n",
       "      <th>hepatitis_b</th>\n",
       "      <th>measles</th>\n",
       "      <th>bmi</th>\n",
       "      <th>under_five_deaths</th>\n",
       "      <th>polio</th>\n",
       "      <th>total_expenditure</th>\n",
       "      <th>diphtheria</th>\n",
       "      <th>hiv/aids</th>\n",
       "      <th>gdp</th>\n",
       "      <th>population</th>\n",
       "      <th>thinness_1_19_years</th>\n",
       "      <th>thinness_5_9_years</th>\n",
       "      <th>income_composition_of_resources</th>\n",
       "      <th>schooling</th>\n",
       "    </tr>\n",
       "  </thead>\n",
       "  <tbody>\n",
       "    <tr>\n",
       "      <th>0</th>\n",
       "      <td>0</td>\n",
       "      <td>Afghanistan</td>\n",
       "      <td>2015</td>\n",
       "      <td>Developing</td>\n",
       "      <td>65.0</td>\n",
       "      <td>263.0</td>\n",
       "      <td>62</td>\n",
       "      <td>0.01</td>\n",
       "      <td>71.279624</td>\n",
       "      <td>65.0</td>\n",
       "      <td>1154</td>\n",
       "      <td>19.1</td>\n",
       "      <td>83</td>\n",
       "      <td>6.0</td>\n",
       "      <td>8.16</td>\n",
       "      <td>65.0</td>\n",
       "      <td>0.1</td>\n",
       "      <td>584.259210</td>\n",
       "      <td>33736494.0</td>\n",
       "      <td>17.2</td>\n",
       "      <td>17.3</td>\n",
       "      <td>0.479</td>\n",
       "      <td>10.1</td>\n",
       "    </tr>\n",
       "    <tr>\n",
       "      <th>1</th>\n",
       "      <td>1</td>\n",
       "      <td>Afghanistan</td>\n",
       "      <td>2014</td>\n",
       "      <td>Developing</td>\n",
       "      <td>59.9</td>\n",
       "      <td>271.0</td>\n",
       "      <td>64</td>\n",
       "      <td>0.01</td>\n",
       "      <td>73.523582</td>\n",
       "      <td>62.0</td>\n",
       "      <td>492</td>\n",
       "      <td>18.6</td>\n",
       "      <td>86</td>\n",
       "      <td>58.0</td>\n",
       "      <td>8.18</td>\n",
       "      <td>62.0</td>\n",
       "      <td>0.1</td>\n",
       "      <td>612.696514</td>\n",
       "      <td>327582.0</td>\n",
       "      <td>17.5</td>\n",
       "      <td>17.5</td>\n",
       "      <td>0.476</td>\n",
       "      <td>10.0</td>\n",
       "    </tr>\n",
       "    <tr>\n",
       "      <th>2</th>\n",
       "      <td>2</td>\n",
       "      <td>Afghanistan</td>\n",
       "      <td>2013</td>\n",
       "      <td>Developing</td>\n",
       "      <td>59.9</td>\n",
       "      <td>268.0</td>\n",
       "      <td>66</td>\n",
       "      <td>0.01</td>\n",
       "      <td>73.219243</td>\n",
       "      <td>64.0</td>\n",
       "      <td>430</td>\n",
       "      <td>18.1</td>\n",
       "      <td>89</td>\n",
       "      <td>62.0</td>\n",
       "      <td>8.13</td>\n",
       "      <td>64.0</td>\n",
       "      <td>0.1</td>\n",
       "      <td>631.744976</td>\n",
       "      <td>31731688.0</td>\n",
       "      <td>17.7</td>\n",
       "      <td>17.7</td>\n",
       "      <td>0.470</td>\n",
       "      <td>9.9</td>\n",
       "    </tr>\n",
       "    <tr>\n",
       "      <th>3</th>\n",
       "      <td>3</td>\n",
       "      <td>Afghanistan</td>\n",
       "      <td>2012</td>\n",
       "      <td>Developing</td>\n",
       "      <td>59.5</td>\n",
       "      <td>272.0</td>\n",
       "      <td>69</td>\n",
       "      <td>0.01</td>\n",
       "      <td>78.184215</td>\n",
       "      <td>67.0</td>\n",
       "      <td>2787</td>\n",
       "      <td>17.6</td>\n",
       "      <td>93</td>\n",
       "      <td>67.0</td>\n",
       "      <td>8.52</td>\n",
       "      <td>67.0</td>\n",
       "      <td>0.1</td>\n",
       "      <td>669.959000</td>\n",
       "      <td>3696958.0</td>\n",
       "      <td>17.9</td>\n",
       "      <td>18.0</td>\n",
       "      <td>0.463</td>\n",
       "      <td>9.8</td>\n",
       "    </tr>\n",
       "    <tr>\n",
       "      <th>4</th>\n",
       "      <td>4</td>\n",
       "      <td>Afghanistan</td>\n",
       "      <td>2011</td>\n",
       "      <td>Developing</td>\n",
       "      <td>59.2</td>\n",
       "      <td>275.0</td>\n",
       "      <td>71</td>\n",
       "      <td>0.01</td>\n",
       "      <td>7.097109</td>\n",
       "      <td>68.0</td>\n",
       "      <td>3013</td>\n",
       "      <td>17.2</td>\n",
       "      <td>97</td>\n",
       "      <td>68.0</td>\n",
       "      <td>7.87</td>\n",
       "      <td>68.0</td>\n",
       "      <td>0.1</td>\n",
       "      <td>63.537231</td>\n",
       "      <td>2978599.0</td>\n",
       "      <td>18.2</td>\n",
       "      <td>18.2</td>\n",
       "      <td>0.454</td>\n",
       "      <td>9.5</td>\n",
       "    </tr>\n",
       "  </tbody>\n",
       "</table>\n",
       "</div>"
      ],
      "text/plain": [
       "   Unnamed: 0      country  year      status  life_expectancy  \\\n",
       "0           0  Afghanistan  2015  Developing             65.0   \n",
       "1           1  Afghanistan  2014  Developing             59.9   \n",
       "2           2  Afghanistan  2013  Developing             59.9   \n",
       "3           3  Afghanistan  2012  Developing             59.5   \n",
       "4           4  Afghanistan  2011  Developing             59.2   \n",
       "\n",
       "   adult_mortality  infant_deaths  alcohol  percentage_expenditure  \\\n",
       "0            263.0             62     0.01               71.279624   \n",
       "1            271.0             64     0.01               73.523582   \n",
       "2            268.0             66     0.01               73.219243   \n",
       "3            272.0             69     0.01               78.184215   \n",
       "4            275.0             71     0.01                7.097109   \n",
       "\n",
       "   hepatitis_b  measles   bmi  under_five_deaths  polio  total_expenditure  \\\n",
       "0         65.0     1154  19.1                 83    6.0               8.16   \n",
       "1         62.0      492  18.6                 86   58.0               8.18   \n",
       "2         64.0      430  18.1                 89   62.0               8.13   \n",
       "3         67.0     2787  17.6                 93   67.0               8.52   \n",
       "4         68.0     3013  17.2                 97   68.0               7.87   \n",
       "\n",
       "   diphtheria  hiv/aids         gdp  population  thinness_1_19_years  \\\n",
       "0        65.0       0.1  584.259210  33736494.0                 17.2   \n",
       "1        62.0       0.1  612.696514    327582.0                 17.5   \n",
       "2        64.0       0.1  631.744976  31731688.0                 17.7   \n",
       "3        67.0       0.1  669.959000   3696958.0                 17.9   \n",
       "4        68.0       0.1   63.537231   2978599.0                 18.2   \n",
       "\n",
       "   thinness_5_9_years  income_composition_of_resources  schooling  \n",
       "0                17.3                            0.479       10.1  \n",
       "1                17.5                            0.476       10.0  \n",
       "2                17.7                            0.470        9.9  \n",
       "3                18.0                            0.463        9.8  \n",
       "4                18.2                            0.454        9.5  "
      ]
     },
     "execution_count": 3,
     "metadata": {},
     "output_type": "execute_result"
    }
   ],
   "source": [
    "df.head()"
   ]
  },
  {
   "cell_type": "markdown",
   "metadata": {},
   "source": [
    "## Make Life Expectancy vs. GDP Plot"
   ]
  },
  {
   "cell_type": "code",
   "execution_count": 4,
   "metadata": {},
   "outputs": [],
   "source": [
    "def make_plot_gdp_vs_life(df, x, colour, year_range=None):\n",
    "    \"\"\"Creates an Altair scatter plot\n",
    "    \n",
    "    Arguments:\n",
    "        df {pd.DataFrame} -- Data frame containing the shaded values to plot and country information\n",
    "        x {str} -- The column to plot the x axis on\n",
    "        colour {str} -- The column to plot colour scale by (should be either: \"life_expectancy\", \"gdp\", or \"gdp_log\")\n",
    "        year_range {list} -- List of length 2 containing year range (for example: `[2012, 2015]`) (default: {None}) \n",
    "    \n",
    "    Returns:\n",
    "        altair.vegalite.v3.api.Chart\n",
    "    \"\"\"\n",
    "    \n",
    "    ##################################\n",
    "    # Clean and tidy data frame\n",
    "    ##################################\n",
    "        \n",
    "    # filter on year range\n",
    "    if year_range != None:\n",
    "        df = df[(df[\"year\"] >= year_range[0]) & (df[\"year\"] <= year_range[1])]\n",
    "        \n",
    "    # aggregate and tidy data\n",
    "    df = (\n",
    "        df.loc[:, [\"country\", \"status\", \"life_expectancy\", \"gdp\"]].groupby([\"country\", \"status\"])\n",
    "          .agg(\"mean\")\n",
    "          .reset_index()\n",
    "    )\n",
    "    df[\"gdp_log\"] = np.log(df[\"gdp\"])\n",
    "    \n",
    "    ##################################\n",
    "    # CREATE PLOT\n",
    "    ##################################\n",
    "\n",
    "    \n",
    "    # create plot\n",
    "    if x == \"gdp\":\n",
    "        x_title = \"GDP (USD)\"\n",
    "    else:\n",
    "        x_title = \"GDP log (USD)\"\n",
    "    if colour == \"status\":\n",
    "        colour_title = \"Status\"\n",
    "    else:\n",
    "        colour_title = \"Country\"\n",
    "        \n",
    "    fig = alt.Chart(df).mark_point(\n",
    "        opacity=1/2\n",
    "    ).encode(\n",
    "        alt.X(x + \":Q\", title=x_title),\n",
    "        alt.Y(\"life_expectancy:Q\", bin=alt.Bin(step=2), title=\"Life Expectancy\"),\n",
    "        alt.Color(colour + \":N\", title=colour_title),\n",
    "        tooltip=[\n",
    "                alt.Tooltip(\"country\", title=\"Country\"),\n",
    "                alt.Tooltip(\"status\", title=\"Status\"),\n",
    "                alt.Tooltip(\"gdp:Q\", title=\"GDP (USD)\", format=\"$0,.2f\"),\n",
    "                alt.Tooltip(\"gdp_log:Q\", title=\"GDP log (USD)\", format=\"$0,.2f\")\n",
    "            ]\n",
    "    )\n",
    "    \n",
    "    return fig"
   ]
  },
  {
   "cell_type": "code",
   "execution_count": 5,
   "metadata": {},
   "outputs": [
    {
     "data": {
      "application/vnd.vegalite.v3+json": {
       "$schema": "https://vega.github.io/schema/vega-lite/v3.4.0.json",
       "config": {
        "mark": {
         "tooltip": null
        },
        "view": {
         "height": 300,
         "width": 400
        }
       },
       "data": {
        "format": {
         "type": "json"
        },
        "url": "altair-data-2bd24991b5a5bc6ca2764f7375484b81.json"
       },
       "encoding": {
        "color": {
         "field": "status",
         "title": "Status",
         "type": "nominal"
        },
        "tooltip": [
         {
          "field": "country",
          "title": "Country",
          "type": "nominal"
         },
         {
          "field": "status",
          "title": "Status",
          "type": "nominal"
         },
         {
          "field": "gdp",
          "format": "$0,.2f",
          "title": "GDP (USD)",
          "type": "quantitative"
         },
         {
          "field": "gdp_log",
          "format": "$0,.2f",
          "title": "GDP log (USD)",
          "type": "quantitative"
         }
        ],
        "x": {
         "field": "gdp_log",
         "title": "GDP log (USD)",
         "type": "quantitative"
        },
        "y": {
         "bin": {
          "step": 2
         },
         "field": "life_expectancy",
         "title": "Life Expectancy",
         "type": "quantitative"
        }
       },
       "mark": {
        "opacity": 0.5,
        "type": "point"
       }
      },
      "image/png": "[encoded data removed]",
      "text/plain": [
       "<VegaLite 3 object>\n",
       "\n",
       "If you see this message, it means the renderer has not been properly enabled\n",
       "for the frontend that you are using. For more information, see\n",
       "https://altair-viz.github.io/user_guide/troubleshooting.html\n"
      ]
     },
     "execution_count": 5,
     "metadata": {},
     "output_type": "execute_result"
    }
   ],
   "source": [
    "make_plot_gdp_vs_life(df, \"gdp_log\", \"status\", [2000, 2015])"
   ]
  },
  {
   "cell_type": "code",
   "execution_count": null,
   "metadata": {},
   "outputs": [],
   "source": []
  }
 ],
 "metadata": {
  "kernelspec": {
   "display_name": "Python 3",
   "language": "python",
   "name": "python3"
  },
  "language_info": {
   "codemirror_mode": {
    "name": "ipython",
    "version": 3
   },
   "file_extension": ".py",
   "mimetype": "text/x-python",
   "name": "python",
   "nbconvert_exporter": "python",
   "pygments_lexer": "ipython3",
   "version": "3.7.4"
  }
 },
 "nbformat": 4,
 "nbformat_minor": 4
}
